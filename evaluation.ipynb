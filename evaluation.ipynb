{
 "cells": [
  {
   "cell_type": "markdown",
   "id": "2db5a46e-2b21-4e56-9309-677d68a4e5c1",
   "metadata": {},
   "source": [
    "---\n",
    "\n",
    "# Evaluation metrics computation\n",
    "\n",
    ">This notebook contains code for calculating evaluation metrics\n",
    "\n",
    "---"
   ]
  },
  {
   "cell_type": "code",
   "execution_count": 66,
   "id": "33367786-11e3-4dec-82f1-f1547c8e0b7d",
   "metadata": {},
   "outputs": [],
   "source": [
    "import os\n",
    "import numpy as np\n",
    "import pandas as pd\n",
    "import matplotlib.pyplot as plt"
   ]
  },
  {
   "cell_type": "code",
   "execution_count": 117,
   "id": "a86c90ab-acac-4c0e-91c0-0f3bacc67124",
   "metadata": {},
   "outputs": [
    {
     "data": {
      "text/html": [
       "<div>\n",
       "<style scoped>\n",
       "    .dataframe tbody tr th:only-of-type {\n",
       "        vertical-align: middle;\n",
       "    }\n",
       "\n",
       "    .dataframe tbody tr th {\n",
       "        vertical-align: top;\n",
       "    }\n",
       "\n",
       "    .dataframe thead th {\n",
       "        text-align: right;\n",
       "    }\n",
       "</style>\n",
       "<table border=\"1\" class=\"dataframe\">\n",
       "  <thead>\n",
       "    <tr style=\"text-align: right;\">\n",
       "      <th></th>\n",
       "      <th>Query ID</th>\n",
       "      <th>Song ID</th>\n",
       "    </tr>\n",
       "  </thead>\n",
       "  <tbody>\n",
       "    <tr>\n",
       "      <th>0</th>\n",
       "      <td>q1</td>\n",
       "      <td>1118</td>\n",
       "    </tr>\n",
       "    <tr>\n",
       "      <th>1</th>\n",
       "      <td>q2</td>\n",
       "      <td>1438</td>\n",
       "    </tr>\n",
       "    <tr>\n",
       "      <th>4</th>\n",
       "      <td>q5</td>\n",
       "      <td>1808</td>\n",
       "    </tr>\n",
       "    <tr>\n",
       "      <th>7</th>\n",
       "      <td>q8</td>\n",
       "      <td>593</td>\n",
       "    </tr>\n",
       "    <tr>\n",
       "      <th>8</th>\n",
       "      <td>q9</td>\n",
       "      <td>1224</td>\n",
       "    </tr>\n",
       "  </tbody>\n",
       "</table>\n",
       "</div>"
      ],
      "text/plain": [
       "  Query ID  Song ID\n",
       "0       q1     1118\n",
       "1       q2     1438\n",
       "4       q5     1808\n",
       "7       q8      593\n",
       "8       q9     1224"
      ]
     },
     "execution_count": 117,
     "metadata": {},
     "output_type": "execute_result"
    }
   ],
   "source": [
    "queries = pd.read_csv('metadata/Queries.csv')\n",
    "collection_ids = [int(f[:-4]) for f in os.listdir('chroma/raw')]\n",
    "queries = queries[queries[\"Song ID\"].isin(collection_ids)][[\"Query ID\", \"Song ID\"]]\n",
    "queries.head()"
   ]
  },
  {
   "cell_type": "markdown",
   "id": "798fa73a-b56b-4ab5-bfe4-66807c7d2078",
   "metadata": {},
   "source": [
    "## Compute mean reciprocal ranks"
   ]
  },
  {
   "cell_type": "code",
   "execution_count": 118,
   "id": "291e1487-c326-4c8b-b270-88929b7413bf",
   "metadata": {},
   "outputs": [],
   "source": [
    "def compute_mrr(feature, collection):\n",
    "    reciprocal_ranks = list()\n",
    "    \n",
    "    for i, query in queries.iterrows():\n",
    "        # Load results for the query\n",
    "        results = pd.read_csv(f\"results/{feature}/{collection}/{query['Query ID']}.csv\")\n",
    "    \n",
    "        # Compute reciprocal rank for the query result\n",
    "        rank = results.index[results['Song ID'] == query['Song ID']][0] + 1\n",
    "        reciprocal_rank = 1 / rank\n",
    "    \n",
    "        reciprocal_ranks.append(reciprocal_rank)\n",
    "\n",
    "    # Compute mean reciprocal rank\n",
    "    mrr = sum(reciprocal_ranks) / len(reciprocal_ranks)\n",
    "\n",
    "    return round(mrr * 100.0, 2)"
   ]
  },
  {
   "cell_type": "code",
   "execution_count": 119,
   "id": "d476d1c6-e63e-4e1a-a30c-d36f61fba137",
   "metadata": {},
   "outputs": [],
   "source": [
    "def compute_precision(feature, collection, k):\n",
    "    precisions = list()\n",
    "    \n",
    "    for i, query in queries.iterrows():\n",
    "        # Load results for the query\n",
    "        results = pd.read_csv(f\"results/{feature}/{collection}/{query['Query ID']}.csv\")\n",
    "    \n",
    "        # Compute precision for the query result\n",
    "        rank = results.index[results['Song ID'] == query['Song ID']][0] + 1\n",
    "        precision = 1 if rank <= k else 0\n",
    "    \n",
    "        precisions.append(precision)\n",
    "\n",
    "    # Compute mean reciprocal rank\n",
    "    p = sum(precisions) / len(precisions)\n",
    "\n",
    "    return round(p * 100.0, 2)"
   ]
  },
  {
   "cell_type": "code",
   "execution_count": 120,
   "id": "d9b841e3-c8cb-4902-9b91-9ab1f2a05d57",
   "metadata": {},
   "outputs": [],
   "source": [
    "def compute_scores(feature):\n",
    "    scores = dict()\n",
    "    \n",
    "    for model in ['raw', 'spleeter']:#, 'openunmix']:\n",
    "        # Compute metrics\n",
    "        mrr = compute_mrr(feature, model)\n",
    "        p1 = compute_precision(feature, model, 1)\n",
    "        p3 = compute_precision(feature, model, 3)\n",
    "        p10 = compute_precision(feature, model, 10)\n",
    "\n",
    "        scores[model] = {'MRR': mrr, 'p@1': p1, 'p@3': p3, 'p@10': p10}\n",
    "\n",
    "    scores = pd.DataFrame(scores).transpose()\n",
    "\n",
    "    return scores"
   ]
  },
  {
   "cell_type": "markdown",
   "id": "332d2191-c4e4-49cd-be45-618db122f8d7",
   "metadata": {},
   "source": [
    "## Scores for chroma features"
   ]
  },
  {
   "cell_type": "code",
   "execution_count": 121,
   "id": "171ce0b2-f802-4004-a420-c1455b026ff6",
   "metadata": {},
   "outputs": [
    {
     "data": {
      "text/html": [
       "<div>\n",
       "<style scoped>\n",
       "    .dataframe tbody tr th:only-of-type {\n",
       "        vertical-align: middle;\n",
       "    }\n",
       "\n",
       "    .dataframe tbody tr th {\n",
       "        vertical-align: top;\n",
       "    }\n",
       "\n",
       "    .dataframe thead th {\n",
       "        text-align: right;\n",
       "    }\n",
       "</style>\n",
       "<table border=\"1\" class=\"dataframe\">\n",
       "  <thead>\n",
       "    <tr style=\"text-align: right;\">\n",
       "      <th></th>\n",
       "      <th>MRR</th>\n",
       "      <th>p@1</th>\n",
       "      <th>p@3</th>\n",
       "      <th>p@10</th>\n",
       "    </tr>\n",
       "  </thead>\n",
       "  <tbody>\n",
       "    <tr>\n",
       "      <th>raw</th>\n",
       "      <td>11.90</td>\n",
       "      <td>7.94</td>\n",
       "      <td>11.11</td>\n",
       "      <td>17.46</td>\n",
       "    </tr>\n",
       "    <tr>\n",
       "      <th>spleeter</th>\n",
       "      <td>12.58</td>\n",
       "      <td>9.52</td>\n",
       "      <td>12.70</td>\n",
       "      <td>17.46</td>\n",
       "    </tr>\n",
       "  </tbody>\n",
       "</table>\n",
       "</div>"
      ],
      "text/plain": [
       "            MRR   p@1    p@3   p@10\n",
       "raw       11.90  7.94  11.11  17.46\n",
       "spleeter  12.58  9.52  12.70  17.46"
      ]
     },
     "execution_count": 121,
     "metadata": {},
     "output_type": "execute_result"
    }
   ],
   "source": [
    "scores_chroma = compute_scores('chroma')\n",
    "scores_chroma"
   ]
  },
  {
   "cell_type": "markdown",
   "id": "f27b84f8-4af2-4b00-afcd-eb7b1e79fa11",
   "metadata": {},
   "source": [
    "## Scores for pitch tracks"
   ]
  },
  {
   "cell_type": "code",
   "execution_count": 122,
   "id": "c23d42c4-9d09-4d33-b116-dee71b2385b5",
   "metadata": {},
   "outputs": [
    {
     "data": {
      "text/html": [
       "<div>\n",
       "<style scoped>\n",
       "    .dataframe tbody tr th:only-of-type {\n",
       "        vertical-align: middle;\n",
       "    }\n",
       "\n",
       "    .dataframe tbody tr th {\n",
       "        vertical-align: top;\n",
       "    }\n",
       "\n",
       "    .dataframe thead th {\n",
       "        text-align: right;\n",
       "    }\n",
       "</style>\n",
       "<table border=\"1\" class=\"dataframe\">\n",
       "  <thead>\n",
       "    <tr style=\"text-align: right;\">\n",
       "      <th></th>\n",
       "      <th>MRR</th>\n",
       "      <th>p@1</th>\n",
       "      <th>p@3</th>\n",
       "      <th>p@10</th>\n",
       "    </tr>\n",
       "  </thead>\n",
       "  <tbody>\n",
       "    <tr>\n",
       "      <th>raw</th>\n",
       "      <td>1.16</td>\n",
       "      <td>0.00</td>\n",
       "      <td>0.00</td>\n",
       "      <td>0.00</td>\n",
       "    </tr>\n",
       "    <tr>\n",
       "      <th>spleeter</th>\n",
       "      <td>26.41</td>\n",
       "      <td>20.63</td>\n",
       "      <td>26.98</td>\n",
       "      <td>34.92</td>\n",
       "    </tr>\n",
       "  </tbody>\n",
       "</table>\n",
       "</div>"
      ],
      "text/plain": [
       "            MRR    p@1    p@3   p@10\n",
       "raw        1.16   0.00   0.00   0.00\n",
       "spleeter  26.41  20.63  26.98  34.92"
      ]
     },
     "execution_count": 122,
     "metadata": {},
     "output_type": "execute_result"
    }
   ],
   "source": [
    "scores_pitch = compute_scores('pitch')\n",
    "scores_pitch"
   ]
  },
  {
   "cell_type": "code",
   "execution_count": null,
   "id": "5cce8738-4d9c-4c20-ab16-d80b22e7e4e4",
   "metadata": {},
   "outputs": [],
   "source": []
  }
 ],
 "metadata": {
  "kernelspec": {
   "display_name": "Python 3 (ipykernel)",
   "language": "python",
   "name": "python3"
  },
  "language_info": {
   "codemirror_mode": {
    "name": "ipython",
    "version": 3
   },
   "file_extension": ".py",
   "mimetype": "text/x-python",
   "name": "python",
   "nbconvert_exporter": "python",
   "pygments_lexer": "ipython3",
   "version": "3.10.13"
  }
 },
 "nbformat": 4,
 "nbformat_minor": 5
}
