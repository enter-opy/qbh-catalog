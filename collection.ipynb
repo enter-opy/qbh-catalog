{
 "cells": [
  {
   "cell_type": "code",
   "execution_count": 1,
   "id": "6731b76f-f23a-4b6b-86fd-bc41a2c4b895",
   "metadata": {},
   "outputs": [],
   "source": [
    "import numpy as np\n",
    "import pandas as pd\n",
    "import yt_dlp\n",
    "from yt_dlp.utils import DownloadError"
   ]
  },
  {
   "cell_type": "markdown",
   "id": "74451ec3-b646-47c9-9118-3cd0a93892fd",
   "metadata": {},
   "source": [
    "## Dataset"
   ]
  },
  {
   "cell_type": "markdown",
   "id": "4e6723bd-c5b8-48ba-9297-abea839d0515",
   "metadata": {},
   "source": [
    "### Collection"
   ]
  },
  {
   "cell_type": "code",
   "execution_count": 15,
   "id": "37f69750-cde6-463f-af35-f702cd1ecf91",
   "metadata": {},
   "outputs": [],
   "source": [
    "collection = pd.read_csv('metadata/Collection_Canonicals.csv', encoding='ISO-8859-1')"
   ]
  },
  {
   "cell_type": "code",
   "execution_count": 16,
   "id": "04f4d8e8-d065-4ab1-88a9-8ef15c6ffccf",
   "metadata": {},
   "outputs": [
    {
     "data": {
      "text/html": [
       "<div>\n",
       "<style scoped>\n",
       "    .dataframe tbody tr th:only-of-type {\n",
       "        vertical-align: middle;\n",
       "    }\n",
       "\n",
       "    .dataframe tbody tr th {\n",
       "        vertical-align: top;\n",
       "    }\n",
       "\n",
       "    .dataframe thead th {\n",
       "        text-align: right;\n",
       "    }\n",
       "</style>\n",
       "<table border=\"1\" class=\"dataframe\">\n",
       "  <thead>\n",
       "    <tr style=\"text-align: right;\">\n",
       "      <th></th>\n",
       "      <th>Song ID</th>\n",
       "      <th>Title</th>\n",
       "      <th>Artist</th>\n",
       "      <th>Original artist</th>\n",
       "      <th>Canonical</th>\n",
       "      <th>Class label</th>\n",
       "    </tr>\n",
       "  </thead>\n",
       "  <tbody>\n",
       "    <tr>\n",
       "      <th>0</th>\n",
       "      <td>1</td>\n",
       "      <td>One hundred years</td>\n",
       "      <td>The Cure</td>\n",
       "      <td>The Cure</td>\n",
       "      <td>YES</td>\n",
       "      <td>100years</td>\n",
       "    </tr>\n",
       "    <tr>\n",
       "      <th>1</th>\n",
       "      <td>4</td>\n",
       "      <td>10:15 saturday night</td>\n",
       "      <td>The Cure</td>\n",
       "      <td>The Cure</td>\n",
       "      <td>YES</td>\n",
       "      <td>1015sat</td>\n",
       "    </tr>\n",
       "    <tr>\n",
       "      <th>2</th>\n",
       "      <td>7</td>\n",
       "      <td>Seventeen seconds</td>\n",
       "      <td>The Cure</td>\n",
       "      <td>The Cure</td>\n",
       "      <td>YES</td>\n",
       "      <td>17secs</td>\n",
       "    </tr>\n",
       "    <tr>\n",
       "      <th>3</th>\n",
       "      <td>14</td>\n",
       "      <td>Dos gardenias</td>\n",
       "      <td>Antonio Machin</td>\n",
       "      <td>Bobby Capo</td>\n",
       "      <td>YES</td>\n",
       "      <td>2gardeni</td>\n",
       "    </tr>\n",
       "    <tr>\n",
       "      <th>4</th>\n",
       "      <td>15</td>\n",
       "      <td>Six different ways</td>\n",
       "      <td>The Cure</td>\n",
       "      <td>The Cure</td>\n",
       "      <td>YES</td>\n",
       "      <td>6different</td>\n",
       "    </tr>\n",
       "  </tbody>\n",
       "</table>\n",
       "</div>"
      ],
      "text/plain": [
       "   Song ID                 Title          Artist Original artist Canonical  \\\n",
       "0        1     One hundred years        The Cure        The Cure       YES   \n",
       "1        4  10:15 saturday night        The Cure        The Cure       YES   \n",
       "2        7     Seventeen seconds        The Cure        The Cure       YES   \n",
       "3       14         Dos gardenias  Antonio Machin      Bobby Capo       YES   \n",
       "4       15    Six different ways        The Cure        The Cure       YES   \n",
       "\n",
       "  Class label  \n",
       "0    100years  \n",
       "1     1015sat  \n",
       "2      17secs  \n",
       "3    2gardeni  \n",
       "4  6different  "
      ]
     },
     "execution_count": 16,
     "metadata": {},
     "output_type": "execute_result"
    }
   ],
   "source": [
    "songs.head()"
   ]
  },
  {
   "cell_type": "markdown",
   "id": "00cc42eb-c241-4670-be55-3a50b0f1b6a7",
   "metadata": {},
   "source": [
    "### Queries"
   ]
  },
  {
   "cell_type": "code",
   "execution_count": 17,
   "id": "4164fdd6-5557-49f1-8466-659e7441beb3",
   "metadata": {},
   "outputs": [],
   "source": [
    "queries = pd.read_csv('metadata/Queries.csv', encoding='ISO-8859-1')"
   ]
  },
  {
   "cell_type": "code",
   "execution_count": 18,
   "id": "05fbdcb3-fd4d-4b6f-a941-4b3260bc44c7",
   "metadata": {},
   "outputs": [
    {
     "data": {
      "text/html": [
       "<div>\n",
       "<style scoped>\n",
       "    .dataframe tbody tr th:only-of-type {\n",
       "        vertical-align: middle;\n",
       "    }\n",
       "\n",
       "    .dataframe tbody tr th {\n",
       "        vertical-align: top;\n",
       "    }\n",
       "\n",
       "    .dataframe thead th {\n",
       "        text-align: right;\n",
       "    }\n",
       "</style>\n",
       "<table border=\"1\" class=\"dataframe\">\n",
       "  <thead>\n",
       "    <tr style=\"text-align: right;\">\n",
       "      <th></th>\n",
       "      <th>Filename</th>\n",
       "      <th>Query ID</th>\n",
       "      <th>Song ID</th>\n",
       "      <th>Title</th>\n",
       "      <th>Original artist</th>\n",
       "      <th>Class label</th>\n",
       "    </tr>\n",
       "  </thead>\n",
       "  <tbody>\n",
       "    <tr>\n",
       "      <th>0</th>\n",
       "      <td>q1.wav</td>\n",
       "      <td>q1</td>\n",
       "      <td>1118</td>\n",
       "      <td>Mother natures son</td>\n",
       "      <td>The Beatles</td>\n",
       "      <td>mothernat</td>\n",
       "    </tr>\n",
       "    <tr>\n",
       "      <th>1</th>\n",
       "      <td>q2.wav</td>\n",
       "      <td>q2</td>\n",
       "      <td>1438</td>\n",
       "      <td>Scarborough fair</td>\n",
       "      <td>Unknown</td>\n",
       "      <td>scarborou</td>\n",
       "    </tr>\n",
       "    <tr>\n",
       "      <th>2</th>\n",
       "      <td>q3.wav</td>\n",
       "      <td>q3</td>\n",
       "      <td>1546</td>\n",
       "      <td>Stairway to heaven</td>\n",
       "      <td>Led Zeppelin</td>\n",
       "      <td>stairway2h</td>\n",
       "    </tr>\n",
       "    <tr>\n",
       "      <th>3</th>\n",
       "      <td>q4.wav</td>\n",
       "      <td>q4</td>\n",
       "      <td>1579</td>\n",
       "      <td>Strawberry fields forever</td>\n",
       "      <td>The Beatles</td>\n",
       "      <td>strawberry</td>\n",
       "    </tr>\n",
       "    <tr>\n",
       "      <th>4</th>\n",
       "      <td>q5.wav</td>\n",
       "      <td>q5</td>\n",
       "      <td>1808</td>\n",
       "      <td>When I am sixty four</td>\n",
       "      <td>The Beatles</td>\n",
       "      <td>whenim64</td>\n",
       "    </tr>\n",
       "  </tbody>\n",
       "</table>\n",
       "</div>"
      ],
      "text/plain": [
       "  Filename Query ID  Song ID                       Title Original artist  \\\n",
       "0   q1.wav       q1     1118          Mother natures son     The Beatles   \n",
       "1   q2.wav       q2     1438            Scarborough fair         Unknown   \n",
       "2   q3.wav       q3     1546          Stairway to heaven    Led Zeppelin   \n",
       "3   q4.wav       q4     1579   Strawberry fields forever     The Beatles   \n",
       "4   q5.wav       q5     1808        When I am sixty four     The Beatles   \n",
       "\n",
       "   Class label  \n",
       "0    mothernat  \n",
       "1    scarborou  \n",
       "2   stairway2h  \n",
       "3   strawberry  \n",
       "4     whenim64  "
      ]
     },
     "execution_count": 18,
     "metadata": {},
     "output_type": "execute_result"
    }
   ],
   "source": [
    "queries.head()"
   ]
  },
  {
   "cell_type": "markdown",
   "id": "8e15045f-e5f0-4613-9168-716defcb1e1c",
   "metadata": {},
   "source": [
    "## Download collection\n",
    "\n",
    "- Use `Title` and `Artist` from `collection` dataframe to download the song"
   ]
  },
  {
   "cell_type": "code",
   "execution_count": 2,
   "id": "fb7d91d2-8189-4573-b6e7-b896da738178",
   "metadata": {},
   "outputs": [],
   "source": [
    "def download_audio(save_name, title, artist, output_folder=\"downloads\"):\n",
    "    # Define query with title and artist name\n",
    "    search_query = f\"{title} {artist} audio\"\n",
    "    ydl_opts = {\n",
    "        'format': 'bestaudio/best',\n",
    "        'outtmpl': f'{output_folder}/{save_name}.%(ext)s', # Save the audio with song id as the filename\n",
    "        'postprocessors': [{\n",
    "            'key': 'FFmpegExtractAudio',\n",
    "            'preferredcodec': 'mp3',\n",
    "            'preferredquality': '192',\n",
    "        }],\n",
    "        'quiet': False,\n",
    "    }\n",
    "\n",
    "    # Download the song from youtube\n",
    "    with yt_dlp.YoutubeDL(ydl_opts) as ydl:\n",
    "        try:\n",
    "            ydl.download([f\"ytsearch:{search_query}\"])\n",
    "        except yt_dlp.utils.DownloadError:\n",
    "            print(f\"Failed to download: {title} by {artist}\")"
   ]
  },
  {
   "cell_type": "code",
   "execution_count": null,
   "id": "f0786230-e618-4f84-9560-5012dc173625",
   "metadata": {},
   "outputs": [],
   "source": [
    "for index, row in df.iterrows():\n",
    "    song_id = row[\"Song ID\"]\n",
    "    song_title = row[\"Title\"]\n",
    "    artist = row[\"Artist\"]\n",
    "    \n",
    "    download_audio(song_id, song_title, artist)"
   ]
  },
  {
   "cell_type": "code",
   "execution_count": null,
   "id": "ddd2063b-baa1-4a6e-b15e-0ed3ee1f2d33",
   "metadata": {},
   "outputs": [],
   "source": []
  }
 ],
 "metadata": {
  "kernelspec": {
   "display_name": "Python 3 (ipykernel)",
   "language": "python",
   "name": "python3"
  },
  "language_info": {
   "codemirror_mode": {
    "name": "ipython",
    "version": 3
   },
   "file_extension": ".py",
   "mimetype": "text/x-python",
   "name": "python",
   "nbconvert_exporter": "python",
   "pygments_lexer": "ipython3",
   "version": "3.10.13"
  }
 },
 "nbformat": 4,
 "nbformat_minor": 5
}
