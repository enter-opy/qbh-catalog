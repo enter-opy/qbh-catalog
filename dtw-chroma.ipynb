{
 "cells": [
  {
   "cell_type": "markdown",
   "id": "41b4a81e-90af-4296-a45b-30fd7b9cc8af",
   "metadata": {},
   "source": [
    "---\n",
    "\n",
    "# DTW inference for chroma\n",
    "\n",
    ">This notebook contains code for performing DTW for chroma features\n",
    "\n",
    "---"
   ]
  },
  {
   "cell_type": "code",
   "execution_count": 1,
   "id": "1eb9e589-ca95-410a-9c96-f1e74e9f930b",
   "metadata": {},
   "outputs": [],
   "source": [
    "import os\n",
    "import numpy as np\n",
    "import pandas as pd\n",
    "import librosa"
   ]
  },
  {
   "cell_type": "code",
   "execution_count": 2,
   "id": "95927d57-a0a7-4984-a6dc-6ac81cc0e990",
   "metadata": {},
   "outputs": [],
   "source": [
    "queries_path = 'chroma/queries'\n",
    "raw_path = 'chroma/raw'\n",
    "spleeter_path = 'chroma/spleeter'\n",
    "openunmix_path = 'chroma/openunmix'\n",
    "\n",
    "results_raw_path = 'results/chroma/raw'\n",
    "results_spleeter_path = 'results/chroma/spleeter'\n",
    "results_openunmix_path = 'results/chroma/openunmix'"
   ]
  },
  {
   "cell_type": "markdown",
   "id": "c2647ac2-5ce6-411f-b20e-ac369a52be22",
   "metadata": {},
   "source": [
    "## Query database"
   ]
  },
  {
   "cell_type": "code",
   "execution_count": 3,
   "id": "37601429-0e23-4ca1-a045-6f00d1b99eb7",
   "metadata": {},
   "outputs": [
    {
     "data": {
      "text/html": [
       "<div>\n",
       "<style scoped>\n",
       "    .dataframe tbody tr th:only-of-type {\n",
       "        vertical-align: middle;\n",
       "    }\n",
       "\n",
       "    .dataframe tbody tr th {\n",
       "        vertical-align: top;\n",
       "    }\n",
       "\n",
       "    .dataframe thead th {\n",
       "        text-align: right;\n",
       "    }\n",
       "</style>\n",
       "<table border=\"1\" class=\"dataframe\">\n",
       "  <thead>\n",
       "    <tr style=\"text-align: right;\">\n",
       "      <th></th>\n",
       "      <th>Filename</th>\n",
       "      <th>Query ID</th>\n",
       "      <th>Song ID</th>\n",
       "      <th>Title</th>\n",
       "      <th>Original artist</th>\n",
       "      <th>Class label</th>\n",
       "    </tr>\n",
       "  </thead>\n",
       "  <tbody>\n",
       "    <tr>\n",
       "      <th>0</th>\n",
       "      <td>q1.wav</td>\n",
       "      <td>q1</td>\n",
       "      <td>1118</td>\n",
       "      <td>Mother natures son</td>\n",
       "      <td>The Beatles</td>\n",
       "      <td>mothernat</td>\n",
       "    </tr>\n",
       "    <tr>\n",
       "      <th>1</th>\n",
       "      <td>q2.wav</td>\n",
       "      <td>q2</td>\n",
       "      <td>1438</td>\n",
       "      <td>Scarborough fair</td>\n",
       "      <td>Unknown</td>\n",
       "      <td>scarborou</td>\n",
       "    </tr>\n",
       "    <tr>\n",
       "      <th>2</th>\n",
       "      <td>q3.wav</td>\n",
       "      <td>q3</td>\n",
       "      <td>1546</td>\n",
       "      <td>Stairway to heaven</td>\n",
       "      <td>Led Zeppelin</td>\n",
       "      <td>stairway2h</td>\n",
       "    </tr>\n",
       "    <tr>\n",
       "      <th>3</th>\n",
       "      <td>q4.wav</td>\n",
       "      <td>q4</td>\n",
       "      <td>1579</td>\n",
       "      <td>Strawberry fields forever</td>\n",
       "      <td>The Beatles</td>\n",
       "      <td>strawberry</td>\n",
       "    </tr>\n",
       "    <tr>\n",
       "      <th>4</th>\n",
       "      <td>q5.wav</td>\n",
       "      <td>q5</td>\n",
       "      <td>1808</td>\n",
       "      <td>When I am sixty four</td>\n",
       "      <td>The Beatles</td>\n",
       "      <td>whenim64</td>\n",
       "    </tr>\n",
       "  </tbody>\n",
       "</table>\n",
       "</div>"
      ],
      "text/plain": [
       "  Filename Query ID  Song ID                       Title Original artist  \\\n",
       "0   q1.wav       q1     1118          Mother natures son     The Beatles   \n",
       "1   q2.wav       q2     1438            Scarborough fair         Unknown   \n",
       "2   q3.wav       q3     1546          Stairway to heaven    Led Zeppelin   \n",
       "3   q4.wav       q4     1579   Strawberry fields forever     The Beatles   \n",
       "4   q5.wav       q5     1808        When I am sixty four     The Beatles   \n",
       "\n",
       "   Class label  \n",
       "0    mothernat  \n",
       "1    scarborou  \n",
       "2   stairway2h  \n",
       "3   strawberry  \n",
       "4     whenim64  "
      ]
     },
     "execution_count": 3,
     "metadata": {},
     "output_type": "execute_result"
    }
   ],
   "source": [
    "queries = pd.read_csv('metadata/Queries.csv')\n",
    "queries.head()"
   ]
  },
  {
   "cell_type": "markdown",
   "id": "8ed8e20f-566a-4cce-a44c-be3af986fd89",
   "metadata": {},
   "source": [
    "## Filter queries based on existing song IDs in the collection"
   ]
  },
  {
   "cell_type": "code",
   "execution_count": 4,
   "id": "d1788a91-b8aa-4a62-8be3-2a2c299f3f98",
   "metadata": {},
   "outputs": [
    {
     "data": {
      "text/html": [
       "<div>\n",
       "<style scoped>\n",
       "    .dataframe tbody tr th:only-of-type {\n",
       "        vertical-align: middle;\n",
       "    }\n",
       "\n",
       "    .dataframe tbody tr th {\n",
       "        vertical-align: top;\n",
       "    }\n",
       "\n",
       "    .dataframe thead th {\n",
       "        text-align: right;\n",
       "    }\n",
       "</style>\n",
       "<table border=\"1\" class=\"dataframe\">\n",
       "  <thead>\n",
       "    <tr style=\"text-align: right;\">\n",
       "      <th></th>\n",
       "      <th>Query ID</th>\n",
       "      <th>Song ID</th>\n",
       "    </tr>\n",
       "  </thead>\n",
       "  <tbody>\n",
       "    <tr>\n",
       "      <th>0</th>\n",
       "      <td>q1</td>\n",
       "      <td>1118</td>\n",
       "    </tr>\n",
       "    <tr>\n",
       "      <th>1</th>\n",
       "      <td>q2</td>\n",
       "      <td>1438</td>\n",
       "    </tr>\n",
       "    <tr>\n",
       "      <th>4</th>\n",
       "      <td>q5</td>\n",
       "      <td>1808</td>\n",
       "    </tr>\n",
       "    <tr>\n",
       "      <th>7</th>\n",
       "      <td>q8</td>\n",
       "      <td>593</td>\n",
       "    </tr>\n",
       "    <tr>\n",
       "      <th>8</th>\n",
       "      <td>q9</td>\n",
       "      <td>1224</td>\n",
       "    </tr>\n",
       "  </tbody>\n",
       "</table>\n",
       "</div>"
      ],
      "text/plain": [
       "  Query ID  Song ID\n",
       "0       q1     1118\n",
       "1       q2     1438\n",
       "4       q5     1808\n",
       "7       q8      593\n",
       "8       q9     1224"
      ]
     },
     "execution_count": 4,
     "metadata": {},
     "output_type": "execute_result"
    }
   ],
   "source": [
    "collection_ids = [int(f[:-4]) for f in os.listdir(raw_path)]\n",
    "queries = queries[queries[\"Song ID\"].isin(collection_ids)][[\"Query ID\", \"Song ID\"]]\n",
    "queries.head()"
   ]
  },
  {
   "cell_type": "markdown",
   "id": "cec6a782-8cf6-4973-80f8-a0d59459158c",
   "metadata": {},
   "source": [
    "## Querying"
   ]
  },
  {
   "cell_type": "markdown",
   "id": "ca95b1ab-a574-4809-a3a1-a8fdad0bb15e",
   "metadata": {},
   "source": [
    "**DTW sliding window function**"
   ]
  },
  {
   "cell_type": "code",
   "execution_count": 5,
   "id": "13a8bd46-76fe-4bc8-a951-4766691ce014",
   "metadata": {},
   "outputs": [],
   "source": [
    "eps = np.finfo(float).eps\n",
    "\n",
    "def dtw_search(query, song):\n",
    "    window_length = int(query.shape[1] * 1.2)\n",
    "    hop_length = window_length // 4\n",
    "    \n",
    "    cost = np.inf\n",
    "\n",
    "    # Avoid divide by zero error\n",
    "    query[query == 0] = eps\n",
    "    song[song == 0] = eps\n",
    "\n",
    "    for transpose in range(12):\n",
    "        # transpose query chroma 12 times to avoid octave errors\n",
    "        query_transposed = np.roll(query, transpose, axis=0)\n",
    "\n",
    "        for window_start in range(0, song.shape[1] - window_length, hop_length):\n",
    "            # Use a sliding window approach\n",
    "            window = song[:, window_start: window_start + window_length]    \n",
    "    \n",
    "            # Find the minimum cost\n",
    "            distance = librosa.sequence.dtw(query, window, metric='cosine', subseq=True, global_constraints=True, band_rad=0.1, backtrack=False) \n",
    "            cost = min(distance[-1, -1], cost)\n",
    "        \n",
    "    return cost"
   ]
  },
  {
   "cell_type": "markdown",
   "id": "6cff6b4f-3807-4d75-ad05-3e8f22f319a4",
   "metadata": {},
   "source": [
    "### Raw audio"
   ]
  },
  {
   "cell_type": "code",
   "execution_count": 9,
   "id": "fde899d8-913e-4331-9918-1b4530a3bd4c",
   "metadata": {},
   "outputs": [],
   "source": [
    "# Create directory to save results\n",
    "os.makedirs(results_raw_path, exist_ok=True)\n",
    "\n",
    "for i, query in queries.iterrows():\n",
    "    query_name = query['Query ID'] + '.npy'\n",
    "    query_path = os.path.join(queries_path, query_name)\n",
    "\n",
    "    # Load query chroma\n",
    "    query_chroma = np.load(query_path)\n",
    "    \n",
    "    song_ids = list()\n",
    "    costs = list()\n",
    "    \n",
    "    for chroma_name in os.listdir(raw_path):\n",
    "        # Load song chroma\n",
    "        chroma_path = os.path.join(raw_path, chroma_name)\n",
    "        song_chroma = np.load(chroma_path)\n",
    "\n",
    "        # Perform dtw on query and current song\n",
    "        cost = dtw_search(query_chroma, song_chroma)\n",
    "\n",
    "        song_ids.append(int(chroma_name[:-4]))\n",
    "        costs.append(cost)\n",
    "\n",
    "    # Save results\n",
    "    result_df = pd.DataFrame({'Song ID': song_ids, 'Cost': costs})\n",
    "    result_df = result_df.sort_values(by='Cost', ascending=True)\n",
    "    result_df.to_csv(os.path.join(results_raw_path, query['Query ID'] + '.csv'), index=False)"
   ]
  },
  {
   "cell_type": "markdown",
   "id": "3b79aefc-002a-4806-ba5e-558f42dd77ef",
   "metadata": {},
   "source": [
    "### Spleeter"
   ]
  },
  {
   "cell_type": "code",
   "execution_count": 14,
   "id": "fc80beba-f92e-4425-9088-37aa45e55535",
   "metadata": {},
   "outputs": [],
   "source": [
    "# Create directory to save results\n",
    "os.makedirs(results_spleeter_path, exist_ok=True)\n",
    "\n",
    "for i, query in queries.iterrows():\n",
    "    query_name = query['Query ID'] + '.npy'\n",
    "    query_path = os.path.join(queries_path, query_name)\n",
    "\n",
    "    # Load query chroma\n",
    "    query_chroma = np.load(query_path)\n",
    "\n",
    "    song_ids = list()\n",
    "    costs = list()\n",
    "    \n",
    "    for chroma_name in os.listdir(spleeter_path):\n",
    "        # Load song chroma\n",
    "        chroma_path = os.path.join(spleeter_path, chroma_name)\n",
    "        song_chroma = np.load(chroma_path)\n",
    "\n",
    "        # Perform dtw on query and current song\n",
    "        cost = dtw_search(query_chroma, song_chroma)\n",
    "\n",
    "        song_ids.append(int(chroma_name[:-4]))\n",
    "        costs.append(cost)\n",
    "\n",
    "    result_df = pd.DataFrame({'Song ID': song_ids, 'Cost': costs})\n",
    "    result_df = result_df.sort_values(by='Cost', ascending=True)\n",
    "    result_df.to_csv(os.path.join(results_spleeter_path, query['Query ID'] + '.csv'), index=False)"
   ]
  },
  {
   "cell_type": "markdown",
   "id": "827e0d40-37e0-48f5-85fb-955da9a39ed8",
   "metadata": {},
   "source": [
    "### Open unmix"
   ]
  },
  {
   "cell_type": "code",
   "execution_count": null,
   "id": "d18acf64-3e17-4df8-b92b-77e3743f1ad9",
   "metadata": {},
   "outputs": [],
   "source": [
    "# Create directory to save results\n",
    "os.makedirs(results_openunmix_path, exist_ok=True)\n",
    "\n",
    "for i, query in queries.iterrows():\n",
    "    query_name = query['Query ID'] + '.npy'\n",
    "    query_path = os.path.join(queries_path, query_name)\n",
    "\n",
    "    # Load query chroma\n",
    "    query_chroma = np.load(query_path)\n",
    "\n",
    "    song_ids = list()\n",
    "    costs = list()\n",
    "    \n",
    "    for chroma_name in os.listdir(openunmix_path):\n",
    "        # Load song chroma\n",
    "        chroma_path = os.path.join(openunmix_path, chroma_name)\n",
    "        song_chroma = np.load(chroma_path)\n",
    "\n",
    "        # Perform dtw on query and current song\n",
    "        cost = dtw_search(query_chroma, song_chroma)\n",
    "\n",
    "        song_ids.append(int(chroma_name[:-4]))\n",
    "        costs.append(cost)\n",
    "\n",
    "    result_df = pd.DataFrame({'Song ID': song_ids, 'Cost': costs})\n",
    "    result_df = result_df.sort_values(by='Cost', ascending=True)\n",
    "    result_df.to_csv(os.path.join(results_openunmix_path, query['Query ID'] + '.csv'), index=False)"
   ]
  },
  {
   "cell_type": "code",
   "execution_count": null,
   "id": "05ab8e17-22fa-4575-b809-34ffed9d83bc",
   "metadata": {},
   "outputs": [],
   "source": []
  }
 ],
 "metadata": {
  "kernelspec": {
   "display_name": "Python 3 (ipykernel)",
   "language": "python",
   "name": "python3"
  },
  "language_info": {
   "codemirror_mode": {
    "name": "ipython",
    "version": 3
   },
   "file_extension": ".py",
   "mimetype": "text/x-python",
   "name": "python",
   "nbconvert_exporter": "python",
   "pygments_lexer": "ipython3",
   "version": "3.10.13"
  }
 },
 "nbformat": 4,
 "nbformat_minor": 5
}
